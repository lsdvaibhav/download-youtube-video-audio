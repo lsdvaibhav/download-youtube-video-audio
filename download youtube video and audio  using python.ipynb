{
 "cells": [
  {
   "cell_type": "markdown",
   "metadata": {},
   "source": [
    "# One way of downloading Youtube video"
   ]
  },
  {
   "cell_type": "code",
   "execution_count": null,
   "metadata": {},
   "outputs": [],
   "source": [
    "# install pafy and youtube_dl modules using following cammands \n",
    "!pip install youtube_dl\n",
    "!pip install pafy"
   ]
  },
  {
   "cell_type": "code",
   "execution_count": 1,
   "metadata": {},
   "outputs": [],
   "source": [
    "# import pafy to use its methods\n",
    "import pafy"
   ]
  },
  {
   "cell_type": "code",
   "execution_count": 2,
   "metadata": {},
   "outputs": [],
   "source": [
    "# your youtube video url link to be downloaded\n",
    "url = \"https://www.youtube.com/watch?v=KIK3azN4w34\""
   ]
  },
  {
   "cell_type": "code",
   "execution_count": 3,
   "metadata": {},
   "outputs": [],
   "source": [
    "# a method to pass url as parameter and saves video on local file system \n",
    "def download_yt_video(url):\n",
    "    pafy.new(url).getbest().download()\n",
    "    print(\"Youtube video downloaded\")"
   ]
  },
  {
   "cell_type": "code",
   "execution_count": 4,
   "metadata": {},
   "outputs": [
    {
     "name": "stdout",
     "output_type": "stream",
     "text": [
      "\n",
      "Youtube video downloaded\n"
     ]
    }
   ],
   "source": [
    "# Calling this method to download the following url / youtube video \n",
    "download_yt_video(url)"
   ]
  },
  {
   "cell_type": "markdown",
   "metadata": {},
   "source": [
    "# Another way to download video "
   ]
  },
  {
   "cell_type": "code",
   "execution_count": null,
   "metadata": {},
   "outputs": [],
   "source": [
    "# install pytube using following command\n",
    "!pip install  pytube"
   ]
  },
  {
   "cell_type": "code",
   "execution_count": 5,
   "metadata": {},
   "outputs": [],
   "source": [
    "#import YouTube from pytube and use YouTube Method \n",
    "from pytube import YouTube\n",
    "\n",
    "#method to download & save video when url is passed\n",
    "def yt_video_download(url):\n",
    "    YouTube(url).streams.first().download()\n",
    "    print(\"video downloaded\")"
   ]
  },
  {
   "cell_type": "code",
   "execution_count": 6,
   "metadata": {},
   "outputs": [
    {
     "name": "stdout",
     "output_type": "stream",
     "text": [
      "video downloaded\n"
     ]
    }
   ],
   "source": [
    "# method called\n",
    "yt_video_download(url)"
   ]
  },
  {
   "cell_type": "markdown",
   "metadata": {},
   "source": [
    "# Download youtube stream audio - best quality audio only "
   ]
  },
  {
   "cell_type": "code",
   "execution_count": 7,
   "metadata": {},
   "outputs": [
    {
     "name": "stdout",
     "output_type": "stream",
     "text": [
      "\n"
     ]
    }
   ],
   "source": [
    "# getbestaudio - returns the best bitrates file\n",
    "# donload() - saves the audio file on local system\n",
    "pafy.new(url).getbestaudio().download()"
   ]
  },
  {
   "cell_type": "code",
   "execution_count": null,
   "metadata": {},
   "outputs": [],
   "source": []
  }
 ],
 "metadata": {
  "kernelspec": {
   "display_name": "Python 3",
   "language": "python",
   "name": "python3"
  },
  "language_info": {
   "codemirror_mode": {
    "name": "ipython",
    "version": 3
   },
   "file_extension": ".py",
   "mimetype": "text/x-python",
   "name": "python",
   "nbconvert_exporter": "python",
   "pygments_lexer": "ipython3",
   "version": "3.7.7"
  }
 },
 "nbformat": 4,
 "nbformat_minor": 4
}
